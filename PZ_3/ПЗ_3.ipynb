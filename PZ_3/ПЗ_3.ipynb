{
  "nbformat": 4,
  "nbformat_minor": 0,
  "metadata": {
    "colab": {
      "provenance": [],
      "authorship_tag": "ABX9TyPEVadvN0brjeo+vV2hMVg1"
    },
    "kernelspec": {
      "name": "python3",
      "display_name": "Python 3"
    },
    "language_info": {
      "name": "python"
    }
  },
  "cells": [
    {
      "cell_type": "code",
      "execution_count": null,
      "metadata": {
        "id": "-ImEB8cRgCtE"
      },
      "outputs": [],
      "source": [
        "#1. Даны два целых числа: A, B. Проверить истинность высказывания: «Ровно одно из чисел A и B нечетное».\n",
        "\n",
        "a = input('Введите число A: ')\n",
        "b = input('Введите число B: ')\n",
        "\n",
        "while type(a) != int: #обработка исключений\n",
        "  try:\n",
        "    a = int(a)\n",
        "  except ValueError:\n",
        "    print('Неправильно ввели!')\n",
        "    a = input('Введите число A: ') #пусть пользователь введёт число заново\n",
        "\n",
        "while type(b) != int: #обработка исключений\n",
        "  try:\n",
        "    b = int(b)\n",
        "  except ValueError:\n",
        "    print('Неправильно ввели!')\n",
        "    b = input('Введите число B: ') #пусть пользователь введёт число заново\n",
        "\n",
        "print('Ровно одно из чел A и B нечётное?')\n",
        "if (a % 2 == 0 and b % 2 != 0) or (a % 2 != 0 and b % 2 == 0):\n",
        "  print('True')\n",
        "else:\n",
        "  print('False')\n",
        "print('Программа завершена.')"
      ]
    }
  ]
}